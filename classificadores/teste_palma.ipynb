{
 "cells": [
  {
   "cell_type": "code",
   "execution_count": 1,
   "metadata": {},
   "outputs": [
    {
     "name": "stderr",
     "output_type": "stream",
     "text": [
      "c:\\users\\cesar\\appdata\\local\\programs\\python\\python37\\lib\\site-packages\\tensorflow\\python\\framework\\dtypes.py:516: FutureWarning: Passing (type, 1) or '1type' as a synonym of type is deprecated; in a future version of numpy, it will be understood as (type, (1,)) / '(1,)type'.\n",
      "  _np_qint8 = np.dtype([(\"qint8\", np.int8, 1)])\n",
      "c:\\users\\cesar\\appdata\\local\\programs\\python\\python37\\lib\\site-packages\\tensorflow\\python\\framework\\dtypes.py:517: FutureWarning: Passing (type, 1) or '1type' as a synonym of type is deprecated; in a future version of numpy, it will be understood as (type, (1,)) / '(1,)type'.\n",
      "  _np_quint8 = np.dtype([(\"quint8\", np.uint8, 1)])\n",
      "c:\\users\\cesar\\appdata\\local\\programs\\python\\python37\\lib\\site-packages\\tensorflow\\python\\framework\\dtypes.py:518: FutureWarning: Passing (type, 1) or '1type' as a synonym of type is deprecated; in a future version of numpy, it will be understood as (type, (1,)) / '(1,)type'.\n",
      "  _np_qint16 = np.dtype([(\"qint16\", np.int16, 1)])\n",
      "c:\\users\\cesar\\appdata\\local\\programs\\python\\python37\\lib\\site-packages\\tensorflow\\python\\framework\\dtypes.py:519: FutureWarning: Passing (type, 1) or '1type' as a synonym of type is deprecated; in a future version of numpy, it will be understood as (type, (1,)) / '(1,)type'.\n",
      "  _np_quint16 = np.dtype([(\"quint16\", np.uint16, 1)])\n",
      "c:\\users\\cesar\\appdata\\local\\programs\\python\\python37\\lib\\site-packages\\tensorflow\\python\\framework\\dtypes.py:520: FutureWarning: Passing (type, 1) or '1type' as a synonym of type is deprecated; in a future version of numpy, it will be understood as (type, (1,)) / '(1,)type'.\n",
      "  _np_qint32 = np.dtype([(\"qint32\", np.int32, 1)])\n",
      "c:\\users\\cesar\\appdata\\local\\programs\\python\\python37\\lib\\site-packages\\tensorflow\\python\\framework\\dtypes.py:525: FutureWarning: Passing (type, 1) or '1type' as a synonym of type is deprecated; in a future version of numpy, it will be understood as (type, (1,)) / '(1,)type'.\n",
      "  np_resource = np.dtype([(\"resource\", np.ubyte, 1)])\n",
      "c:\\users\\cesar\\appdata\\local\\programs\\python\\python37\\lib\\site-packages\\tensorboard\\compat\\tensorflow_stub\\dtypes.py:541: FutureWarning: Passing (type, 1) or '1type' as a synonym of type is deprecated; in a future version of numpy, it will be understood as (type, (1,)) / '(1,)type'.\n",
      "  _np_qint8 = np.dtype([(\"qint8\", np.int8, 1)])\n",
      "c:\\users\\cesar\\appdata\\local\\programs\\python\\python37\\lib\\site-packages\\tensorboard\\compat\\tensorflow_stub\\dtypes.py:542: FutureWarning: Passing (type, 1) or '1type' as a synonym of type is deprecated; in a future version of numpy, it will be understood as (type, (1,)) / '(1,)type'.\n",
      "  _np_quint8 = np.dtype([(\"quint8\", np.uint8, 1)])\n",
      "c:\\users\\cesar\\appdata\\local\\programs\\python\\python37\\lib\\site-packages\\tensorboard\\compat\\tensorflow_stub\\dtypes.py:543: FutureWarning: Passing (type, 1) or '1type' as a synonym of type is deprecated; in a future version of numpy, it will be understood as (type, (1,)) / '(1,)type'.\n",
      "  _np_qint16 = np.dtype([(\"qint16\", np.int16, 1)])\n",
      "c:\\users\\cesar\\appdata\\local\\programs\\python\\python37\\lib\\site-packages\\tensorboard\\compat\\tensorflow_stub\\dtypes.py:544: FutureWarning: Passing (type, 1) or '1type' as a synonym of type is deprecated; in a future version of numpy, it will be understood as (type, (1,)) / '(1,)type'.\n",
      "  _np_quint16 = np.dtype([(\"quint16\", np.uint16, 1)])\n",
      "c:\\users\\cesar\\appdata\\local\\programs\\python\\python37\\lib\\site-packages\\tensorboard\\compat\\tensorflow_stub\\dtypes.py:545: FutureWarning: Passing (type, 1) or '1type' as a synonym of type is deprecated; in a future version of numpy, it will be understood as (type, (1,)) / '(1,)type'.\n",
      "  _np_qint32 = np.dtype([(\"qint32\", np.int32, 1)])\n",
      "c:\\users\\cesar\\appdata\\local\\programs\\python\\python37\\lib\\site-packages\\tensorboard\\compat\\tensorflow_stub\\dtypes.py:550: FutureWarning: Passing (type, 1) or '1type' as a synonym of type is deprecated; in a future version of numpy, it will be understood as (type, (1,)) / '(1,)type'.\n",
      "  np_resource = np.dtype([(\"resource\", np.ubyte, 1)])\n",
      "Using TensorFlow backend.\n"
     ]
    }
   ],
   "source": [
    "import os\n",
    "import ast\n",
    "import pandas as pd\n",
    "import matplotlib.pyplot as plt\n",
    "import numpy as np\n",
    "import seaborn as sn\n",
    "import tensorflow as tf\n",
    "import pickle\n",
    "import random\n",
    "# from tensorflow.contrib import lite\n",
    "from keras.utils import to_categorical, plot_model, np_utils\n",
    "from keras.optimizers import RMSprop\n",
    "from keras.layers import Dense, Dropout\n",
    "from keras.regularizers import l1, l2, l1_l2\n",
    "from keras.models import load_model, Sequential\n",
    "from keras import backend as K\n",
    "from random import randrange\n",
    "from sklearn.cluster import KMeans\n",
    "from sklearn.metrics import confusion_matrix, roc_auc_score, accuracy_score\n",
    "from sklearn.model_selection import train_test_split\n",
    "from sklearn.neighbors import KNeighborsClassifier\n",
    "from sklearn.preprocessing import LabelEncoder, StandardScaler, LabelBinarizer\n",
    "from bar import RBFLayer, InitCentersKMeans\n",
    "# %matplotlib notebook"
   ]
  },
  {
   "cell_type": "code",
   "execution_count": 2,
   "metadata": {},
   "outputs": [],
   "source": [
    "directory = 'dados_palma'\n",
    "letras = os.listdir(directory) \n",
    "num_letras = len(letras)\n",
    "\n",
    "dataset = pd.DataFrame()\n",
    "\n",
    "files = {}\n",
    "for letra in letras:\n",
    "    files[letra] = os.listdir(directory+'/'+letra)\n",
    "\n",
    "stats = []\n",
    "all_dataframe = {}\n",
    "    \n",
    "# formated_dict = {}\n",
    "for letra, value_list in files.items():\n",
    "#     formated_dict[letra] = []\n",
    "    for f in value_list:\n",
    "        with open(directory+\"/\"+letra+\"/\"+f) as file:\n",
    "            lines = [line.strip() for line in file]\n",
    "            lines = ast.literal_eval(lines[0])\n",
    "            test = pd.DataFrame(lines)\n",
    "            d = {'media':test.mean(), 'desvio_padrao': test.std(), 'max': test.max(), 'min': test.min()}\n",
    "\n",
    "            stats.append(pd.DataFrame(d))\n",
    "            test['label'] = letra\n",
    "            dataset = dataset.append(test, ignore_index = True)\n",
    "            \n",
    "            if letra not in all_dataframe:\n",
    "                all_dataframe[letra] = []\n",
    "            all_dataframe[letra].append(test)"
   ]
  },
  {
   "cell_type": "code",
   "execution_count": 3,
   "metadata": {},
   "outputs": [],
   "source": [
    "X = dataset.iloc[:,0:30] \n",
    "y = dataset.iloc[:,30] \n",
    "\n",
    "y = LabelEncoder().fit_transform(y)\n",
    "\n",
    "X = X/16384\n",
    "X_train, X_val, y_train, y_val = train_test_split(X, y, test_size = 0.5, random_state = 0)\n",
    "X_test, X_val, y_test, y_val = train_test_split(X_val, y_val, test_size = 0.5, random_state = 0)\n",
    "\n",
    "# Tranform training labels to one-hot encoding\n",
    "y_train = np_utils.to_categorical(y_train, num_letras)\n",
    "\n",
    "# Tranform test labels to one-hot encoding\n",
    "y_val = np_utils.to_categorical(y_val, num_letras)\n",
    "y_test = np_utils.to_categorical(y_test, num_letras)"
   ]
  },
  {
   "cell_type": "code",
   "execution_count": 10,
   "metadata": {},
   "outputs": [
    {
     "name": "stdout",
     "output_type": "stream",
     "text": [
      "Train on 1000 samples, validate on 500 samples\n",
      "Epoch 1/100\n",
      "1000/1000 [==============================] - 1s 1ms/step - loss: 0.7181 - acc: 0.5030 - val_loss: 0.6870 - val_acc: 0.5020\n",
      "Epoch 2/100\n",
      "1000/1000 [==============================] - 0s 215us/step - loss: 0.6672 - acc: 0.5030 - val_loss: 0.6485 - val_acc: 0.5020\n",
      "Epoch 3/100\n",
      "1000/1000 [==============================] - 0s 215us/step - loss: 0.6346 - acc: 0.5280 - val_loss: 0.6207 - val_acc: 0.7400\n",
      "Epoch 4/100\n",
      "1000/1000 [==============================] - 0s 222us/step - loss: 0.6064 - acc: 0.7900 - val_loss: 0.5922 - val_acc: 0.8320\n",
      "Epoch 5/100\n",
      "1000/1000 [==============================] - 0s 271us/step - loss: 0.5759 - acc: 0.8430 - val_loss: 0.5604 - val_acc: 0.8360\n",
      "Epoch 6/100\n",
      "1000/1000 [==============================] - 0s 212us/step - loss: 0.5420 - acc: 0.8490 - val_loss: 0.5258 - val_acc: 0.8440\n",
      "Epoch 7/100\n",
      "1000/1000 [==============================] - 0s 230us/step - loss: 0.5052 - acc: 0.8650 - val_loss: 0.4897 - val_acc: 0.8640\n",
      "Epoch 8/100\n",
      "1000/1000 [==============================] - 0s 222us/step - loss: 0.4683 - acc: 0.8700 - val_loss: 0.4532 - val_acc: 0.8660\n",
      "Epoch 9/100\n",
      "1000/1000 [==============================] - 0s 191us/step - loss: 0.4320 - acc: 0.8720 - val_loss: 0.4191 - val_acc: 0.8660\n",
      "Epoch 10/100\n",
      "1000/1000 [==============================] - 0s 259us/step - loss: 0.3973 - acc: 0.8720 - val_loss: 0.3848 - val_acc: 0.8660\n",
      "Epoch 11/100\n",
      "1000/1000 [==============================] - 0s 213us/step - loss: 0.3639 - acc: 0.8740 - val_loss: 0.3528 - val_acc: 0.8700\n",
      "Epoch 12/100\n",
      "1000/1000 [==============================] - 0s 197us/step - loss: 0.3330 - acc: 0.8800 - val_loss: 0.3231 - val_acc: 0.8720\n",
      "Epoch 13/100\n",
      "1000/1000 [==============================] - 0s 326us/step - loss: 0.3038 - acc: 0.8910 - val_loss: 0.2953 - val_acc: 0.8960\n",
      "Epoch 14/100\n",
      "1000/1000 [==============================] - 0s 269us/step - loss: 0.2781 - acc: 0.9260 - val_loss: 0.2707 - val_acc: 0.9140\n",
      "Epoch 15/100\n",
      "1000/1000 [==============================] - 0s 231us/step - loss: 0.2534 - acc: 0.9540 - val_loss: 0.2463 - val_acc: 0.9440\n",
      "Epoch 16/100\n",
      "1000/1000 [==============================] - 0s 225us/step - loss: 0.2308 - acc: 0.9710 - val_loss: 0.2245 - val_acc: 0.9720\n",
      "Epoch 17/100\n",
      "1000/1000 [==============================] - ETA: 0s - loss: 0.2099 - acc: 0.983 - 0s 241us/step - loss: 0.2101 - acc: 0.9830 - val_loss: 0.2032 - val_acc: 0.9860\n",
      "Epoch 18/100\n",
      "1000/1000 [==============================] - 0s 273us/step - loss: 0.1904 - acc: 0.9880 - val_loss: 0.1849 - val_acc: 0.9860\n",
      "Epoch 19/100\n",
      "1000/1000 [==============================] - 0s 304us/step - loss: 0.1727 - acc: 0.9900 - val_loss: 0.1672 - val_acc: 0.9920\n",
      "Epoch 20/100\n",
      "1000/1000 [==============================] - 0s 220us/step - loss: 0.1568 - acc: 0.9910 - val_loss: 0.1515 - val_acc: 0.9940\n",
      "Epoch 21/100\n",
      "1000/1000 [==============================] - 0s 293us/step - loss: 0.1409 - acc: 0.9910 - val_loss: 0.1355 - val_acc: 0.9940\n",
      "Epoch 22/100\n",
      "1000/1000 [==============================] - 0s 394us/step - loss: 0.1270 - acc: 0.9920 - val_loss: 0.1217 - val_acc: 0.9960\n",
      "Epoch 23/100\n",
      "1000/1000 [==============================] - 0s 222us/step - loss: 0.1141 - acc: 0.9930 - val_loss: 0.1095 - val_acc: 0.9960\n",
      "Epoch 24/100\n",
      "1000/1000 [==============================] - 0s 240us/step - loss: 0.1035 - acc: 0.9930 - val_loss: 0.0989 - val_acc: 0.9960\n",
      "Epoch 25/100\n",
      "1000/1000 [==============================] - 0s 257us/step - loss: 0.0938 - acc: 0.9930 - val_loss: 0.0893 - val_acc: 0.9960\n",
      "Epoch 26/100\n",
      "1000/1000 [==============================] - 0s 234us/step - loss: 0.0850 - acc: 0.9930 - val_loss: 0.0807 - val_acc: 0.9960\n",
      "Epoch 27/100\n",
      "1000/1000 [==============================] - 0s 196us/step - loss: 0.0765 - acc: 0.9940 - val_loss: 0.0717 - val_acc: 0.9980\n",
      "Epoch 28/100\n",
      "1000/1000 [==============================] - 0s 217us/step - loss: 0.0690 - acc: 0.9950 - val_loss: 0.0644 - val_acc: 1.0000\n",
      "Epoch 29/100\n",
      "1000/1000 [==============================] - 0s 205us/step - loss: 0.0622 - acc: 0.9960 - val_loss: 0.0574 - val_acc: 1.0000\n",
      "Epoch 30/100\n",
      "1000/1000 [==============================] - 0s 190us/step - loss: 0.0560 - acc: 0.9960 - val_loss: 0.0513 - val_acc: 1.0000\n",
      "Epoch 31/100\n",
      "1000/1000 [==============================] - 0s 208us/step - loss: 0.0504 - acc: 0.9960 - val_loss: 0.0462 - val_acc: 1.0000\n",
      "Epoch 32/100\n",
      "1000/1000 [==============================] - 0s 281us/step - loss: 0.0459 - acc: 0.9960 - val_loss: 0.0415 - val_acc: 1.0000\n",
      "Epoch 33/100\n",
      "1000/1000 [==============================] - 0s 214us/step - loss: 0.0416 - acc: 0.9960 - val_loss: 0.0371 - val_acc: 1.0000\n",
      "Epoch 34/100\n",
      "1000/1000 [==============================] - 0s 248us/step - loss: 0.0377 - acc: 0.9960 - val_loss: 0.0334 - val_acc: 1.0000\n",
      "Epoch 35/100\n",
      "1000/1000 [==============================] - 0s 260us/step - loss: 0.0342 - acc: 0.9960 - val_loss: 0.0299 - val_acc: 1.0000\n",
      "Epoch 36/100\n",
      "1000/1000 [==============================] - 0s 268us/step - loss: 0.0311 - acc: 0.9960 - val_loss: 0.0268 - val_acc: 1.0000\n",
      "Epoch 37/100\n",
      "1000/1000 [==============================] - 0s 212us/step - loss: 0.0282 - acc: 0.9960 - val_loss: 0.0243 - val_acc: 1.0000\n",
      "Epoch 38/100\n",
      "1000/1000 [==============================] - 0s 234us/step - loss: 0.0259 - acc: 0.9960 - val_loss: 0.0219 - val_acc: 1.0000\n",
      "Epoch 39/100\n",
      "1000/1000 [==============================] - 0s 266us/step - loss: 0.0236 - acc: 0.9960 - val_loss: 0.0197 - val_acc: 1.0000\n",
      "Epoch 40/100\n",
      "1000/1000 [==============================] - 0s 243us/step - loss: 0.0217 - acc: 0.9970 - val_loss: 0.0179 - val_acc: 1.0000\n",
      "Epoch 41/100\n",
      "1000/1000 [==============================] - 0s 231us/step - loss: 0.0201 - acc: 0.9970 - val_loss: 0.0165 - val_acc: 1.0000\n",
      "Epoch 42/100\n",
      "1000/1000 [==============================] - 0s 232us/step - loss: 0.0186 - acc: 0.9980 - val_loss: 0.0152 - val_acc: 1.0000\n",
      "Epoch 43/100\n",
      "1000/1000 [==============================] - 0s 233us/step - loss: 0.0173 - acc: 0.9980 - val_loss: 0.0141 - val_acc: 1.0000\n",
      "Epoch 44/100\n",
      "1000/1000 [==============================] - 0s 209us/step - loss: 0.0160 - acc: 0.9980 - val_loss: 0.0128 - val_acc: 1.0000\n",
      "Epoch 45/100\n",
      "1000/1000 [==============================] - ETA: 0s - loss: 0.0149 - acc: 0.998 - 0s 284us/step - loss: 0.0149 - acc: 0.9980 - val_loss: 0.0115 - val_acc: 1.0000\n",
      "Epoch 46/100\n",
      "1000/1000 [==============================] - 0s 193us/step - loss: 0.0138 - acc: 0.9980 - val_loss: 0.0107 - val_acc: 1.0000\n",
      "Epoch 47/100\n",
      "1000/1000 [==============================] - 0s 182us/step - loss: 0.0129 - acc: 0.9980 - val_loss: 0.0099 - val_acc: 1.0000\n",
      "Epoch 48/100\n",
      "1000/1000 [==============================] - 0s 194us/step - loss: 0.0121 - acc: 0.9980 - val_loss: 0.0091 - val_acc: 1.0000\n",
      "Epoch 49/100\n",
      "1000/1000 [==============================] - 0s 207us/step - loss: 0.0113 - acc: 0.9980 - val_loss: 0.0084 - val_acc: 1.0000\n",
      "Epoch 50/100\n",
      "1000/1000 [==============================] - 0s 241us/step - loss: 0.0106 - acc: 0.9980 - val_loss: 0.0078 - val_acc: 1.0000\n",
      "Epoch 51/100\n",
      "1000/1000 [==============================] - 0s 250us/step - loss: 0.0099 - acc: 0.9980 - val_loss: 0.0071 - val_acc: 1.0000\n",
      "Epoch 52/100\n",
      "1000/1000 [==============================] - 0s 200us/step - loss: 0.0093 - acc: 0.9980 - val_loss: 0.0066 - val_acc: 1.0000\n",
      "Epoch 53/100\n",
      "1000/1000 [==============================] - 0s 252us/step - loss: 0.0088 - acc: 0.9980 - val_loss: 0.0060 - val_acc: 1.0000\n",
      "Epoch 54/100\n",
      "1000/1000 [==============================] - 0s 206us/step - loss: 0.0082 - acc: 0.9980 - val_loss: 0.0057 - val_acc: 1.0000\n",
      "Epoch 55/100\n",
      "1000/1000 [==============================] - 0s 251us/step - loss: 0.0077 - acc: 0.9980 - val_loss: 0.0054 - val_acc: 1.0000\n",
      "Epoch 56/100\n",
      "1000/1000 [==============================] - 0s 253us/step - loss: 0.0073 - acc: 0.9980 - val_loss: 0.0051 - val_acc: 1.0000\n",
      "Epoch 57/100\n",
      "1000/1000 [==============================] - 0s 245us/step - loss: 0.0069 - acc: 0.9980 - val_loss: 0.0046 - val_acc: 1.0000\n",
      "Epoch 58/100\n",
      "1000/1000 [==============================] - 0s 236us/step - loss: 0.0066 - acc: 0.9980 - val_loss: 0.0043 - val_acc: 1.0000\n",
      "Epoch 59/100\n",
      "1000/1000 [==============================] - 0s 268us/step - loss: 0.0061 - acc: 0.9980 - val_loss: 0.0040 - val_acc: 1.0000\n",
      "Epoch 60/100\n",
      "1000/1000 [==============================] - 0s 271us/step - loss: 0.0059 - acc: 0.9980 - val_loss: 0.0038 - val_acc: 1.0000\n",
      "Epoch 61/100\n",
      "1000/1000 [==============================] - 0s 232us/step - loss: 0.0056 - acc: 0.9980 - val_loss: 0.0036 - val_acc: 1.0000\n",
      "Epoch 62/100\n",
      "1000/1000 [==============================] - 0s 231us/step - loss: 0.0052 - acc: 0.9980 - val_loss: 0.0035 - val_acc: 1.0000\n",
      "Epoch 63/100\n",
      "1000/1000 [==============================] - 0s 214us/step - loss: 0.0050 - acc: 0.9980 - val_loss: 0.0033 - val_acc: 1.0000\n",
      "Epoch 64/100\n",
      "1000/1000 [==============================] - 0s 185us/step - loss: 0.0047 - acc: 0.9980 - val_loss: 0.0032 - val_acc: 1.0000\n",
      "Epoch 65/100\n",
      "1000/1000 [==============================] - 0s 191us/step - loss: 0.0044 - acc: 0.9980 - val_loss: 0.0029 - val_acc: 1.0000\n",
      "Epoch 66/100\n",
      "1000/1000 [==============================] - 0s 204us/step - loss: 0.0042 - acc: 0.9980 - val_loss: 0.0028 - val_acc: 1.0000\n",
      "Epoch 67/100\n",
      "1000/1000 [==============================] - 0s 188us/step - loss: 0.0041 - acc: 0.9980 - val_loss: 0.0026 - val_acc: 1.0000\n",
      "Epoch 68/100\n",
      "1000/1000 [==============================] - 0s 258us/step - loss: 0.0038 - acc: 0.9990 - val_loss: 0.0025 - val_acc: 1.0000\n",
      "Epoch 69/100\n",
      "1000/1000 [==============================] - 0s 278us/step - loss: 0.0036 - acc: 0.9990 - val_loss: 0.0024 - val_acc: 1.0000\n",
      "Epoch 70/100\n",
      "1000/1000 [==============================] - 0s 271us/step - loss: 0.0034 - acc: 0.9990 - val_loss: 0.0023 - val_acc: 1.0000\n",
      "Epoch 71/100\n",
      "1000/1000 [==============================] - 0s 238us/step - loss: 0.0032 - acc: 0.9990 - val_loss: 0.0022 - val_acc: 1.0000\n",
      "Epoch 72/100\n",
      "1000/1000 [==============================] - 0s 262us/step - loss: 0.0031 - acc: 0.9990 - val_loss: 0.0021 - val_acc: 1.0000\n",
      "Epoch 73/100\n",
      "1000/1000 [==============================] - 0s 271us/step - loss: 0.0029 - acc: 0.9990 - val_loss: 0.0020 - val_acc: 1.0000\n",
      "Epoch 74/100\n",
      "1000/1000 [==============================] - 0s 233us/step - loss: 0.0028 - acc: 0.9990 - val_loss: 0.0019 - val_acc: 1.0000\n",
      "Epoch 75/100\n",
      "1000/1000 [==============================] - 0s 243us/step - loss: 0.0027 - acc: 0.9990 - val_loss: 0.0018 - val_acc: 1.0000\n",
      "Epoch 76/100\n",
      "1000/1000 [==============================] - 0s 221us/step - loss: 0.0025 - acc: 0.9990 - val_loss: 0.0017 - val_acc: 1.0000\n",
      "Epoch 77/100\n",
      "1000/1000 [==============================] - 0s 234us/step - loss: 0.0024 - acc: 0.9990 - val_loss: 0.0016 - val_acc: 1.0000\n",
      "Epoch 78/100\n",
      "1000/1000 [==============================] - 0s 268us/step - loss: 0.0023 - acc: 0.9990 - val_loss: 0.0015 - val_acc: 1.0000\n",
      "Epoch 79/100\n",
      "1000/1000 [==============================] - 0s 256us/step - loss: 0.0021 - acc: 1.0000 - val_loss: 0.0015 - val_acc: 1.0000\n",
      "Epoch 80/100\n",
      "1000/1000 [==============================] - 0s 222us/step - loss: 0.0020 - acc: 1.0000 - val_loss: 0.0014 - val_acc: 1.0000\n",
      "Epoch 81/100\n",
      "1000/1000 [==============================] - 0s 218us/step - loss: 0.0019 - acc: 1.0000 - val_loss: 0.0013 - val_acc: 1.0000\n",
      "Epoch 82/100\n",
      "1000/1000 [==============================] - 0s 395us/step - loss: 0.0018 - acc: 1.0000 - val_loss: 0.0013 - val_acc: 1.0000\n",
      "Epoch 83/100\n",
      "1000/1000 [==============================] - 0s 219us/step - loss: 0.0017 - acc: 1.0000 - val_loss: 0.0012 - val_acc: 1.0000\n",
      "Epoch 84/100\n",
      "1000/1000 [==============================] - 0s 212us/step - loss: 0.0016 - acc: 1.0000 - val_loss: 0.0012 - val_acc: 1.0000\n",
      "Epoch 85/100\n",
      "1000/1000 [==============================] - 0s 218us/step - loss: 0.0015 - acc: 1.0000 - val_loss: 0.0011 - val_acc: 1.0000\n",
      "Epoch 86/100\n",
      "1000/1000 [==============================] - 0s 202us/step - loss: 0.0014 - acc: 1.0000 - val_loss: 0.0010 - val_acc: 1.0000\n",
      "Epoch 87/100\n",
      "1000/1000 [==============================] - 0s 242us/step - loss: 0.0013 - acc: 1.0000 - val_loss: 9.6532e-04 - val_acc: 1.0000\n",
      "Epoch 88/100\n",
      "1000/1000 [==============================] - 0s 234us/step - loss: 0.0013 - acc: 1.0000 - val_loss: 8.8626e-04 - val_acc: 1.0000\n",
      "Epoch 89/100\n",
      "1000/1000 [==============================] - 0s 231us/step - loss: 0.0012 - acc: 1.0000 - val_loss: 8.4654e-04 - val_acc: 1.0000\n",
      "Epoch 90/100\n",
      "1000/1000 [==============================] - 0s 240us/step - loss: 0.0012 - acc: 1.0000 - val_loss: 7.6189e-04 - val_acc: 1.0000\n",
      "Epoch 91/100\n",
      "1000/1000 [==============================] - 0s 232us/step - loss: 0.0011 - acc: 1.0000 - val_loss: 7.4169e-04 - val_acc: 1.0000\n",
      "Epoch 92/100\n",
      "1000/1000 [==============================] - 0s 257us/step - loss: 0.0010 - acc: 1.0000 - val_loss: 7.3358e-04 - val_acc: 1.0000\n",
      "Epoch 93/100\n",
      "1000/1000 [==============================] - 0s 203us/step - loss: 9.5753e-04 - acc: 1.0000 - val_loss: 6.9925e-04 - val_acc: 1.0000\n",
      "Epoch 94/100\n",
      "1000/1000 [==============================] - 0s 315us/step - loss: 8.9376e-04 - acc: 1.0000 - val_loss: 6.8754e-04 - val_acc: 1.0000\n",
      "Epoch 95/100\n",
      "1000/1000 [==============================] - 0s 242us/step - loss: 8.3624e-04 - acc: 1.0000 - val_loss: 6.6009e-04 - val_acc: 1.0000\n",
      "Epoch 96/100\n",
      "1000/1000 [==============================] - 0s 231us/step - loss: 7.9902e-04 - acc: 1.0000 - val_loss: 5.9132e-04 - val_acc: 1.0000\n",
      "Epoch 97/100\n",
      "1000/1000 [==============================] - 0s 247us/step - loss: 7.3255e-04 - acc: 1.0000 - val_loss: 5.8092e-04 - val_acc: 1.0000\n",
      "Epoch 98/100\n",
      "1000/1000 [==============================] - 0s 219us/step - loss: 6.9382e-04 - acc: 1.0000 - val_loss: 5.5800e-04 - val_acc: 1.0000\n",
      "Epoch 99/100\n",
      "1000/1000 [==============================] - 0s 237us/step - loss: 6.4685e-04 - acc: 1.0000 - val_loss: 5.3178e-04 - val_acc: 1.0000\n",
      "Epoch 100/100\n",
      "1000/1000 [==============================] - 0s 228us/step - loss: 6.1553e-04 - acc: 1.0000 - val_loss: 5.0016e-04 - val_acc: 1.0000\n",
      "500/500 [==============================] - 0s 60us/step\n"
     ]
    }
   ],
   "source": [
    "model = Sequential()\n",
    "\n",
    "classes = num_letras\n",
    "# hidden_layers = 0\n",
    "# neurons = [25] * hidden_layers\n",
    "neurons = 5\n",
    "epochs = 100\n",
    "\n",
    "# Camada de entrada\n",
    "model.add(Dense(units=neurons, activation='sigmoid', input_dim=30))\n",
    "\n",
    "# model.add(Dropout(0.2))\n",
    "# Camadas escondidas\n",
    "# for i in range(hidden_layers):\n",
    "#     model.add(Dense(units=neurons[i], activation='sigmoid'))\n",
    "\n",
    "# Camada de saída\\\n",
    "model.add(Dense(units=classes, activation='softmax'))\n",
    "\n",
    "model.compile(optimizer='rmsprop',\n",
    "              loss='categorical_crossentropy',\n",
    "              metrics=['accuracy'])\n",
    "\n",
    "history = model.fit(X_train, y_train, epochs=epochs, batch_size = 20, validation_data=(X_val, y_val), verbose=1)\n",
    "loss, accuracy = model.evaluate(X_val, y_val)"
   ]
  },
  {
   "cell_type": "code",
   "execution_count": 11,
   "metadata": {},
   "outputs": [
    {
     "name": "stdout",
     "output_type": "stream",
     "text": [
      "500/500 [==============================] - 0s 42us/step\n"
     ]
    }
   ],
   "source": [
    "loss, accuracy = model.evaluate(X_test, y_test)"
   ]
  },
  {
   "cell_type": "code",
   "execution_count": 13,
   "metadata": {},
   "outputs": [
    {
     "data": {
      "text/plain": [
       "0.0011780306324362755"
      ]
     },
     "execution_count": 13,
     "metadata": {},
     "output_type": "execute_result"
    }
   ],
   "source": [
    "loss"
   ]
  },
  {
   "cell_type": "code",
   "execution_count": 7,
   "metadata": {},
   "outputs": [],
   "source": [
    "X = dataset.iloc[:,0:30] \n",
    "y = dataset.iloc[:,30] "
   ]
  },
  {
   "cell_type": "code",
   "execution_count": 14,
   "metadata": {},
   "outputs": [
    {
     "data": {
      "text/plain": [
       "0       palma_dentro\n",
       "1       palma_dentro\n",
       "2       palma_dentro\n",
       "3       palma_dentro\n",
       "4       palma_dentro\n",
       "            ...     \n",
       "1995      palma_fora\n",
       "1996      palma_fora\n",
       "1997      palma_fora\n",
       "1998      palma_fora\n",
       "1999      palma_fora\n",
       "Name: label, Length: 2000, dtype: object"
      ]
     },
     "execution_count": 14,
     "metadata": {},
     "output_type": "execute_result"
    }
   ],
   "source": [
    "y"
   ]
  },
  {
   "cell_type": "code",
   "execution_count": 10,
   "metadata": {},
   "outputs": [],
   "source": [
    "from sklearn.decomposition import PCA\n",
    "pca = PCA(n_components=2)\n",
    "principalComponents = pca.fit_transform(X)\n",
    "principalDf = pd.DataFrame(data = principalComponents\n",
    "             , columns = ['principal component 1', 'principal component 2'])"
   ]
  },
  {
   "cell_type": "code",
   "execution_count": 11,
   "metadata": {},
   "outputs": [
    {
     "data": {
      "text/plain": [
       "array([0.45484234, 0.288149  ])"
      ]
     },
     "execution_count": 11,
     "metadata": {},
     "output_type": "execute_result"
    }
   ],
   "source": [
    "pca.explained_variance_ratio_"
   ]
  },
  {
   "cell_type": "code",
   "execution_count": 16,
   "metadata": {},
   "outputs": [
    {
     "data": {
      "text/html": [
       "<div>\n",
       "<style scoped>\n",
       "    .dataframe tbody tr th:only-of-type {\n",
       "        vertical-align: middle;\n",
       "    }\n",
       "\n",
       "    .dataframe tbody tr th {\n",
       "        vertical-align: top;\n",
       "    }\n",
       "\n",
       "    .dataframe thead th {\n",
       "        text-align: right;\n",
       "    }\n",
       "</style>\n",
       "<table border=\"1\" class=\"dataframe\">\n",
       "  <thead>\n",
       "    <tr style=\"text-align: right;\">\n",
       "      <th></th>\n",
       "      <th>principal component 1</th>\n",
       "      <th>principal component 2</th>\n",
       "      <th>label</th>\n",
       "    </tr>\n",
       "  </thead>\n",
       "  <tbody>\n",
       "    <tr>\n",
       "      <td>0</td>\n",
       "      <td>-8998.890132</td>\n",
       "      <td>-12200.028649</td>\n",
       "      <td>palma_dentro</td>\n",
       "    </tr>\n",
       "    <tr>\n",
       "      <td>1</td>\n",
       "      <td>-8967.179607</td>\n",
       "      <td>-12225.712751</td>\n",
       "      <td>palma_dentro</td>\n",
       "    </tr>\n",
       "    <tr>\n",
       "      <td>2</td>\n",
       "      <td>-9155.995994</td>\n",
       "      <td>-12359.126141</td>\n",
       "      <td>palma_dentro</td>\n",
       "    </tr>\n",
       "    <tr>\n",
       "      <td>3</td>\n",
       "      <td>-8849.511554</td>\n",
       "      <td>-12242.955599</td>\n",
       "      <td>palma_dentro</td>\n",
       "    </tr>\n",
       "    <tr>\n",
       "      <td>4</td>\n",
       "      <td>-8762.886987</td>\n",
       "      <td>-12414.576518</td>\n",
       "      <td>palma_dentro</td>\n",
       "    </tr>\n",
       "    <tr>\n",
       "      <td>...</td>\n",
       "      <td>...</td>\n",
       "      <td>...</td>\n",
       "      <td>...</td>\n",
       "    </tr>\n",
       "    <tr>\n",
       "      <td>1995</td>\n",
       "      <td>-10554.655991</td>\n",
       "      <td>-12430.172284</td>\n",
       "      <td>palma_fora</td>\n",
       "    </tr>\n",
       "    <tr>\n",
       "      <td>1996</td>\n",
       "      <td>-10543.524859</td>\n",
       "      <td>-12389.009115</td>\n",
       "      <td>palma_fora</td>\n",
       "    </tr>\n",
       "    <tr>\n",
       "      <td>1997</td>\n",
       "      <td>-10994.126722</td>\n",
       "      <td>-12575.706773</td>\n",
       "      <td>palma_fora</td>\n",
       "    </tr>\n",
       "    <tr>\n",
       "      <td>1998</td>\n",
       "      <td>-22721.427746</td>\n",
       "      <td>19510.736421</td>\n",
       "      <td>palma_fora</td>\n",
       "    </tr>\n",
       "    <tr>\n",
       "      <td>1999</td>\n",
       "      <td>-22582.798147</td>\n",
       "      <td>16188.304852</td>\n",
       "      <td>palma_fora</td>\n",
       "    </tr>\n",
       "  </tbody>\n",
       "</table>\n",
       "<p>2000 rows × 3 columns</p>\n",
       "</div>"
      ],
      "text/plain": [
       "      principal component 1  principal component 2         label\n",
       "0              -8998.890132          -12200.028649  palma_dentro\n",
       "1              -8967.179607          -12225.712751  palma_dentro\n",
       "2              -9155.995994          -12359.126141  palma_dentro\n",
       "3              -8849.511554          -12242.955599  palma_dentro\n",
       "4              -8762.886987          -12414.576518  palma_dentro\n",
       "...                     ...                    ...           ...\n",
       "1995          -10554.655991          -12430.172284    palma_fora\n",
       "1996          -10543.524859          -12389.009115    palma_fora\n",
       "1997          -10994.126722          -12575.706773    palma_fora\n",
       "1998          -22721.427746           19510.736421    palma_fora\n",
       "1999          -22582.798147           16188.304852    palma_fora\n",
       "\n",
       "[2000 rows x 3 columns]"
      ]
     },
     "execution_count": 16,
     "metadata": {},
     "output_type": "execute_result"
    }
   ],
   "source": [
    "pd.concat([principalDf, y ], axis = 1)"
   ]
  },
  {
   "cell_type": "code",
   "execution_count": 12,
   "metadata": {},
   "outputs": [],
   "source": [
    "finalDf = pd.concat([principalDf, y ], axis = 1)"
   ]
  },
  {
   "cell_type": "code",
   "execution_count": 18,
   "metadata": {},
   "outputs": [
    {
     "data": {
      "image/png": "[encoded data removed]",
      "text/plain": [
       "<Figure size 576x576 with 1 Axes>"
      ]
     },
     "metadata": {
      "needs_background": "light"
     },
     "output_type": "display_data"
    }
   ],
   "source": [
    "from mpl_toolkits.mplot3d import Axes3D\n",
    "fig = plt.figure(figsize = (8,8))\n",
    "ax = fig.add_subplot(1,1,1) \n",
    "ax.set_xlabel('Principal Component 1', fontsize = 15)\n",
    "ax.set_ylabel('Principal Component 2', fontsize = 15)\n",
    "ax.set_title('PCA com duas componentes', fontsize = 20)\n",
    "targets = [\"palma_dentro\", \"palma_fora\"]\n",
    "for target in targets:\n",
    "    indicesToKeep = (finalDf.iloc[:,2][finalDf.iloc[:,2]==target])\n",
    "    ax.scatter(finalDf.loc[indicesToKeep.index, 'principal component 1']\n",
    "               , finalDf.loc[indicesToKeep.index, 'principal component 2']\n",
    "               , s = 50)\n",
    "ax.legend(targets, loc=\"upper left\")\n",
    "ax.grid()"
   ]
  },
  {
   "cell_type": "code",
   "execution_count": null,
   "metadata": {},
   "outputs": [],
   "source": []
  },
  {
   "cell_type": "code",
   "execution_count": 2,
   "metadata": {},
   "outputs": [],
   "source": []
  },
  {
   "cell_type": "code",
   "execution_count": 3,
   "metadata": {},
   "outputs": [
    {
     "data": {
      "image/png": "[encoded data removed]",
      "text/plain": [
       "<Figure size 432x288 with 1 Axes>"
      ]
     },
     "metadata": {
      "needs_background": "light"
     },
     "output_type": "display_data"
    }
   ],
   "source": [
    "with open('variacao_neuronios/1_history.pickle', 'rb') as fp:\n",
    "    data = pickle.load(fp)\n",
    "\n",
    "plt.plot(data['acc'])\n",
    "plt.plot(data['val_acc'])\n",
    "    \n",
    "plt.legend('1 neuronio', loc='best')\n",
    "plt.ylabel('Acurácia')\n",
    "plt.xlabel('Época')\n",
    "plt.grid()\n",
    "plt.rcParams['figure.figsize'] = [100, 50]\n",
    "plt.show()"
   ]
  },
  {
   "cell_type": "code",
   "execution_count": null,
   "metadata": {},
   "outputs": [],
   "source": []
  }
 ],
 "metadata": {
  "kernelspec": {
   "display_name": "Python 3",
   "language": "python",
   "name": "python3"
  },
  "language_info": {
   "codemirror_mode": {
    "name": "ipython",
    "version": 3
   },
   "file_extension": ".py",
   "mimetype": "text/x-python",
   "name": "python",
   "nbconvert_exporter": "python",
   "pygments_lexer": "ipython3",
   "version": "3.7.4"
  }
 },
 "nbformat": 4,
 "nbformat_minor": 2
}
