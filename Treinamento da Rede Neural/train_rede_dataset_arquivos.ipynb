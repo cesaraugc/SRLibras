{
 "cells": [
  {
   "cell_type": "code",
   "execution_count": 1,
   "metadata": {},
   "outputs": [
    {
     "name": "stderr",
     "output_type": "stream",
     "text": [
      "c:\\users\\cesar\\appdata\\local\\programs\\python\\python37\\lib\\site-packages\\tensorflow\\python\\framework\\dtypes.py:516: FutureWarning: Passing (type, 1) or '1type' as a synonym of type is deprecated; in a future version of numpy, it will be understood as (type, (1,)) / '(1,)type'.\n",
      "  _np_qint8 = np.dtype([(\"qint8\", np.int8, 1)])\n",
      "c:\\users\\cesar\\appdata\\local\\programs\\python\\python37\\lib\\site-packages\\tensorflow\\python\\framework\\dtypes.py:517: FutureWarning: Passing (type, 1) or '1type' as a synonym of type is deprecated; in a future version of numpy, it will be understood as (type, (1,)) / '(1,)type'.\n",
      "  _np_quint8 = np.dtype([(\"quint8\", np.uint8, 1)])\n",
      "c:\\users\\cesar\\appdata\\local\\programs\\python\\python37\\lib\\site-packages\\tensorflow\\python\\framework\\dtypes.py:518: FutureWarning: Passing (type, 1) or '1type' as a synonym of type is deprecated; in a future version of numpy, it will be understood as (type, (1,)) / '(1,)type'.\n",
      "  _np_qint16 = np.dtype([(\"qint16\", np.int16, 1)])\n",
      "c:\\users\\cesar\\appdata\\local\\programs\\python\\python37\\lib\\site-packages\\tensorflow\\python\\framework\\dtypes.py:519: FutureWarning: Passing (type, 1) or '1type' as a synonym of type is deprecated; in a future version of numpy, it will be understood as (type, (1,)) / '(1,)type'.\n",
      "  _np_quint16 = np.dtype([(\"quint16\", np.uint16, 1)])\n",
      "c:\\users\\cesar\\appdata\\local\\programs\\python\\python37\\lib\\site-packages\\tensorflow\\python\\framework\\dtypes.py:520: FutureWarning: Passing (type, 1) or '1type' as a synonym of type is deprecated; in a future version of numpy, it will be understood as (type, (1,)) / '(1,)type'.\n",
      "  _np_qint32 = np.dtype([(\"qint32\", np.int32, 1)])\n",
      "c:\\users\\cesar\\appdata\\local\\programs\\python\\python37\\lib\\site-packages\\tensorflow\\python\\framework\\dtypes.py:525: FutureWarning: Passing (type, 1) or '1type' as a synonym of type is deprecated; in a future version of numpy, it will be understood as (type, (1,)) / '(1,)type'.\n",
      "  np_resource = np.dtype([(\"resource\", np.ubyte, 1)])\n",
      "c:\\users\\cesar\\appdata\\local\\programs\\python\\python37\\lib\\site-packages\\tensorboard\\compat\\tensorflow_stub\\dtypes.py:541: FutureWarning: Passing (type, 1) or '1type' as a synonym of type is deprecated; in a future version of numpy, it will be understood as (type, (1,)) / '(1,)type'.\n",
      "  _np_qint8 = np.dtype([(\"qint8\", np.int8, 1)])\n",
      "c:\\users\\cesar\\appdata\\local\\programs\\python\\python37\\lib\\site-packages\\tensorboard\\compat\\tensorflow_stub\\dtypes.py:542: FutureWarning: Passing (type, 1) or '1type' as a synonym of type is deprecated; in a future version of numpy, it will be understood as (type, (1,)) / '(1,)type'.\n",
      "  _np_quint8 = np.dtype([(\"quint8\", np.uint8, 1)])\n",
      "c:\\users\\cesar\\appdata\\local\\programs\\python\\python37\\lib\\site-packages\\tensorboard\\compat\\tensorflow_stub\\dtypes.py:543: FutureWarning: Passing (type, 1) or '1type' as a synonym of type is deprecated; in a future version of numpy, it will be understood as (type, (1,)) / '(1,)type'.\n",
      "  _np_qint16 = np.dtype([(\"qint16\", np.int16, 1)])\n",
      "c:\\users\\cesar\\appdata\\local\\programs\\python\\python37\\lib\\site-packages\\tensorboard\\compat\\tensorflow_stub\\dtypes.py:544: FutureWarning: Passing (type, 1) or '1type' as a synonym of type is deprecated; in a future version of numpy, it will be understood as (type, (1,)) / '(1,)type'.\n",
      "  _np_quint16 = np.dtype([(\"quint16\", np.uint16, 1)])\n",
      "c:\\users\\cesar\\appdata\\local\\programs\\python\\python37\\lib\\site-packages\\tensorboard\\compat\\tensorflow_stub\\dtypes.py:545: FutureWarning: Passing (type, 1) or '1type' as a synonym of type is deprecated; in a future version of numpy, it will be understood as (type, (1,)) / '(1,)type'.\n",
      "  _np_qint32 = np.dtype([(\"qint32\", np.int32, 1)])\n",
      "c:\\users\\cesar\\appdata\\local\\programs\\python\\python37\\lib\\site-packages\\tensorboard\\compat\\tensorflow_stub\\dtypes.py:550: FutureWarning: Passing (type, 1) or '1type' as a synonym of type is deprecated; in a future version of numpy, it will be understood as (type, (1,)) / '(1,)type'.\n",
      "  np_resource = np.dtype([(\"resource\", np.ubyte, 1)])\n",
      "Using TensorFlow backend.\n"
     ]
    }
   ],
   "source": [
    "import os\n",
    "import ast\n",
    "import pandas as pd\n",
    "import matplotlib.pyplot as plt\n",
    "import numpy as np\n",
    "import seaborn as sn\n",
    "import tensorflow as tf\n",
    "import pickle\n",
    "# from tensorflow.contrib import lite\n",
    "from sklearn.metrics import confusion_matrix, roc_auc_score, accuracy_score\n",
    "from sklearn.model_selection import train_test_split\n",
    "from sklearn.preprocessing import LabelEncoder, StandardScaler, LabelBinarizer\n",
    "from keras.utils import to_categorical, plot_model\n",
    "from keras.models import Sequential\n",
    "from keras.layers import Dense, Dropout\n",
    "from keras.regularizers import l1, l2, l1_l2\n",
    "from keras.utils import np_utils\n",
    "from keras.models import load_model\n",
    "from keras import backend as K\n",
    "import random\n",
    "from random import randrange\n",
    "\n",
    "# %matplotlib notebook"
   ]
  },
  {
   "cell_type": "code",
   "execution_count": 16,
   "metadata": {},
   "outputs": [],
   "source": [
    "def indices_to_one_hot(letra, nb_classes):\n",
    "    # Gera um dicionário de mapeamento de letra em valor inteiro (a->0, b->1, ..., w->20)\n",
    "    dic_conv = {}\n",
    "    for i,letra in enumerate(letras):\n",
    "        dic_conv[letra] = i\n",
    "    \n",
    "    num = dic_conv[letra]\n",
    "    return [[0 if i!=num else 1 for i in range(nb_classes)]]\n",
    "\n",
    "\n",
    "def get_incorrects(model, data, labels):\n",
    "    p = model.predict(data)\n",
    "    \n",
    "    errors = []\n",
    "    for i in range(len(data)):\n",
    "        equal = (np.where(labels[i] == np.amax(labels[i]))[0][0]) == (np.where(p[i] == np.amax(p[i])))[0][0]\n",
    "        if not equal:\n",
    "            print((np.where(labels[i] == np.amax(labels[i]))[0][0]), (np.where(p[i] == np.amax(p[i])))[0][0])\n",
    "            print()\n",
    "            errors.append(i)\n",
    "        \n",
    "    print(len(errors))\n",
    "    return errors\n",
    "\n",
    "\n",
    "def test_file(model, file_name):\n",
    "    letra = file_name[0].lower()\n",
    "    dataset_test = pd.DataFrame()\n",
    "\n",
    "    with open(file_name) as file:\n",
    "        lines_test = [l.strip() for l in file]\n",
    "        lines_test = ast.literal_eval(lines_test[0])\n",
    "        temp = pd.DataFrame(lines_test)\n",
    "        temp['label'] = 'c'\n",
    "        dataset_test = dataset_test.append(temp, ignore_index = True)\n",
    "\n",
    "    X_DT = dataset_test.iloc[:,0:30] # [all rows, col from index 2 to the last one excludind 'label']\n",
    "    X_DT = X_DT/32768\n",
    "\n",
    "    # Tranform training labels to one-hot encoding\n",
    "    y_DT = indices_to_one_hot(letra,20)\n",
    "\n",
    "    y_DT = y_DT*100\n",
    "    \n",
    "    errors = get_incorrects(model, X_DT, y_DT)\n",
    "    return errors\n",
    "\n",
    "\n",
    "def print_acc_results(history):\n",
    "    plt.plot(history.history['acc'])\n",
    "    plt.plot(history.history['val_acc'])\n",
    "#     plt.title('Resultados no treinamento')\n",
    "    plt.ylabel('Acurácia')\n",
    "    plt.xlabel('Época')\n",
    "    plt.legend(['Treinamento', 'Teste'], loc='best')\n",
    "    plt.grid()\n",
    "#     plt.ylim((0, 1)) \n",
    "    plt.show()\n",
    "\n",
    "\n",
    "def print_loss_results(history):\n",
    "    plt.plot(history.history['loss'])\n",
    "    plt.plot(history.history['val_loss'])\n",
    "#     plt.title('Resultados no teste')\n",
    "    plt.ylabel('Entropia Cruzada')\n",
    "    plt.xlabel('Época')\n",
    "    plt.legend(['Treinamento', 'Teste'], loc='best')\n",
    "    plt.grid()\n",
    "#     plt.ylim((0, 10)) \n",
    "    plt.show()"
   ]
  },
  {
   "cell_type": "code",
   "execution_count": 6,
   "metadata": {},
   "outputs": [],
   "source": [
    "X_train = pd.read_csv(\"mini_dataset_train.csv\")\n",
    "X_val = pd.read_csv('mini_dataset_validation.csv')\n",
    "\n",
    "X_train = X_train.iloc[:,1:31]\n",
    "X_val = X_val.iloc[:,1:31]\n",
    "\n",
    "y_train = np.loadtxt(\"labels_train.csv\", delimiter=\",\")\n",
    "y_val = np.loadtxt(\"labels_validation.csv\", delimiter=\",\")"
   ]
  },
  {
   "cell_type": "code",
   "execution_count": 10,
   "metadata": {},
   "outputs": [],
   "source": []
  },
  {
   "cell_type": "code",
   "execution_count": 15,
   "metadata": {},
   "outputs": [
    {
     "name": "stdout",
     "output_type": "stream",
     "text": [
      "WARNING:tensorflow:From c:\\users\\cesar\\appdata\\local\\programs\\python\\python37\\lib\\site-packages\\keras\\backend\\tensorflow_backend.py:541: The name tf.placeholder is deprecated. Please use tf.compat.v1.placeholder instead.\n",
      "\n",
      "WARNING:tensorflow:From c:\\users\\cesar\\appdata\\local\\programs\\python\\python37\\lib\\site-packages\\keras\\backend\\tensorflow_backend.py:4432: The name tf.random_uniform is deprecated. Please use tf.random.uniform instead.\n",
      "\n",
      "WARNING:tensorflow:From c:\\users\\cesar\\appdata\\local\\programs\\python\\python37\\lib\\site-packages\\keras\\optimizers.py:793: The name tf.train.Optimizer is deprecated. Please use tf.compat.v1.train.Optimizer instead.\n",
      "\n",
      "WARNING:tensorflow:From c:\\users\\cesar\\appdata\\local\\programs\\python\\python37\\lib\\site-packages\\keras\\backend\\tensorflow_backend.py:3576: The name tf.log is deprecated. Please use tf.math.log instead.\n",
      "\n",
      "WARNING:tensorflow:From c:\\users\\cesar\\appdata\\local\\programs\\python\\python37\\lib\\site-packages\\tensorflow\\python\\ops\\math_grad.py:1250: add_dispatch_support.<locals>.wrapper (from tensorflow.python.ops.array_ops) is deprecated and will be removed in a future version.\n",
      "Instructions for updating:\n",
      "Use tf.where in 2.0, which has the same broadcast rule as np.where\n",
      "WARNING:tensorflow:From c:\\users\\cesar\\appdata\\local\\programs\\python\\python37\\lib\\site-packages\\keras\\backend\\tensorflow_backend.py:1033: The name tf.assign_add is deprecated. Please use tf.compat.v1.assign_add instead.\n",
      "\n",
      "40/40 [==============================] - 0s 50us/step\n",
      "40/40 [==============================] - 0s 50us/step\n",
      "40/40 [==============================] - 0s 50us/step\n",
      "40/40 [==============================] - 0s 50us/step\n",
      "40/40 [==============================] - 0s 50us/step\n",
      "40/40 [==============================] - 0s 100us/step\n",
      "40/40 [==============================] - 0s 75us/step\n",
      "40/40 [==============================] - 0s 75us/step\n",
      "40/40 [==============================] - 0s 50us/step\n",
      "40/40 [==============================] - 0s 50us/step\n",
      "40/40 [==============================] - 0s 125us/step\n",
      "40/40 [==============================] - 0s 100us/step\n",
      "40/40 [==============================] - 0s 75us/step\n",
      "40/40 [==============================] - 0s 100us/step\n",
      "40/40 [==============================] - 0s 50us/step\n",
      "40/40 [==============================] - 0s 100us/step\n",
      "40/40 [==============================] - 0s 75us/step\n",
      "40/40 [==============================] - 0s 75us/step\n",
      "40/40 [==============================] - 0s 75us/step\n",
      "40/40 [==============================] - 0s 75us/step\n",
      "40/40 [==============================] - 0s 75us/step\n",
      "40/40 [==============================] - 0s 75us/step\n",
      "40/40 [==============================] - 0s 75us/step\n",
      "40/40 [==============================] - 0s 100us/step\n",
      "40/40 [==============================] - 0s 50us/step\n",
      "40/40 [==============================] - 0s 75us/step\n",
      "40/40 [==============================] - 0s 75us/step\n",
      "40/40 [==============================] - 0s 75us/step\n",
      "40/40 [==============================] - 0s 100us/step\n",
      "40/40 [==============================] - 0s 150us/step\n",
      "40/40 [==============================] - 0s 150us/step\n",
      "40/40 [==============================] - 0s 86us/step\n",
      "40/40 [==============================] - 0s 75us/step\n",
      "40/40 [==============================] - 0s 50us/step\n",
      "40/40 [==============================] - 0s 50us/step\n",
      "40/40 [==============================] - 0s 75us/step\n",
      "40/40 [==============================] - 0s 50us/step\n",
      "40/40 [==============================] - 0s 75us/step\n",
      "40/40 [==============================] - 0s 75us/step\n",
      "40/40 [==============================] - 0s 75us/step\n",
      "40/40 [==============================] - 0s 75us/step\n",
      "40/40 [==============================] - 0s 75us/step\n",
      "40/40 [==============================] - 0s 75us/step\n",
      "40/40 [==============================] - 0s 100us/step\n",
      "40/40 [==============================] - 0s 75us/step\n",
      "40/40 [==============================] - 0s 100us/step\n",
      "40/40 [==============================] - 0s 100us/step\n",
      "40/40 [==============================] - 0s 100us/step\n",
      "40/40 [==============================] - 0s 100us/step\n",
      "40/40 [==============================] - 0s 75us/step\n"
     ]
    }
   ],
   "source": [
    "for neurons in range(1,51):\n",
    "\n",
    "    model = Sequential()\n",
    "\n",
    "    classes = 20\n",
    "    # hidden_layers = 0\n",
    "    # neurons = [25] * hidden_layers\n",
    "    # neurons = 1\n",
    "    epochs = 10000\n",
    "\n",
    "    # Camada de entrada\n",
    "    model.add(Dense(units=neurons, activation='sigmoid', input_dim=30))\n",
    "\n",
    "    # model.add(Dropout(0.2))\n",
    "    # Camadas escondidas\n",
    "    # for i in range(hidden_layers):\n",
    "    #     model.add(Dense(units=neurons[i], activation='sigmoid'))\n",
    "\n",
    "    # Camada de saída\\\n",
    "    model.add(Dense(units=classes, activation='softmax'))\n",
    "\n",
    "    model.compile(optimizer='rmsprop',\n",
    "                  loss='categorical_crossentropy',\n",
    "                  metrics=['accuracy'])\n",
    "\n",
    "    history = model.fit(X_train, y_train, epochs=epochs, batch_size = 20, validation_data=(X_val, y_val), verbose=0)\n",
    "    loss, accuracy = model.evaluate(X_val, y_val)\n",
    "\n",
    "    with open('variacao_neuronios/' + str(neurons) + '_neurons.pickle', 'wb') as handle:\n",
    "        pickle.dump(history, handle, protocol=pickle.HIGHEST_PROTOCOL)\n",
    "\n",
    "    # model.save('modelo_alfabeto_treinado.h5')"
   ]
  },
  {
   "cell_type": "code",
   "execution_count": null,
   "metadata": {},
   "outputs": [],
   "source": [
    "legend = []\n",
    "for i in range(45,51):\n",
    "    with open('variacao_neuronios/'+str(i)+'_neurons.pickle', 'rb') as handle:\n",
    "        history = pickle.load(handle)\n",
    "        \n",
    "    plt.plot(history.history['acc'])\n",
    "    plt.plot(history.history['val_acc'])\n",
    "    legend = legend + ['Treinamento ' + str(i), 'Teste '+ str(i)]\n",
    "    \n",
    "plt.legend(legend, loc='best')\n",
    "plt.ylabel('Acurácia')\n",
    "plt.xlabel('Época')\n",
    "plt.grid()\n",
    "plt.rcParams['figure.figsize'] = [100, 50]\n",
    "plt.show()"
   ]
  },
  {
   "cell_type": "code",
   "execution_count": 28,
   "metadata": {},
   "outputs": [],
   "source": [
    "with open('variacao_neuronios/10_neurons.pickle', 'rb') as handle:\n",
    "    history = pickle.load(handle)"
   ]
  },
  {
   "cell_type": "code",
   "execution_count": 29,
   "metadata": {},
   "outputs": [
    {
     "data": {
      "image/png": "[encoded data removed]",
      "text/plain": [
       "<Figure size 432x288 with 1 Axes>"
      ]
     },
     "metadata": {
      "needs_background": "light"
     },
     "output_type": "display_data"
    }
   ],
   "source": [
    "print_acc_results(history)"
   ]
  },
  {
   "cell_type": "code",
   "execution_count": 30,
   "metadata": {},
   "outputs": [
    {
     "data": {
      "image/png": "[encoded data removed]",
      "text/plain": [
       "<Figure size 432x288 with 1 Axes>"
      ]
     },
     "metadata": {
      "needs_background": "light"
     },
     "output_type": "display_data"
    }
   ],
   "source": [
    "print_loss_results(history)"
   ]
  },
  {
   "cell_type": "code",
   "execution_count": null,
   "metadata": {},
   "outputs": [],
   "source": []
  }
 ],
 "metadata": {
  "kernelspec": {
   "display_name": "Python 3",
   "language": "python",
   "name": "python3"
  },
  "language_info": {
   "codemirror_mode": {
    "name": "ipython",
    "version": 3
   },
   "file_extension": ".py",
   "mimetype": "text/x-python",
   "name": "python",
   "nbconvert_exporter": "python",
   "pygments_lexer": "ipython3",
   "version": "3.7.4"
  }
 },
 "nbformat": 4,
 "nbformat_minor": 2
}
